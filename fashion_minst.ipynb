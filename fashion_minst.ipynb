{
  "nbformat": 4,
  "nbformat_minor": 0,
  "metadata": {
    "colab": {
      "provenance": [],
      "authorship_tag": "ABX9TyOJcIF+tYjeoTeB3oLpiTQ+",
      "include_colab_link": true
    },
    "kernelspec": {
      "name": "python3",
      "display_name": "Python 3"
    },
    "language_info": {
      "name": "python"
    }
  },
  "cells": [
    {
      "cell_type": "markdown",
      "metadata": {
        "id": "view-in-github",
        "colab_type": "text"
      },
      "source": [
        "<a href=\"https://colab.research.google.com/github/zyx20180209/test2023/blob/main/fashion_minst.ipynb\" target=\"_parent\"><img src=\"https://colab.research.google.com/assets/colab-badge.svg\" alt=\"Open In Colab\"/></a>"
      ]
    },
    {
      "cell_type": "markdown",
      "source": [],
      "metadata": {
        "id": "CHNz6Jus9-QC"
      }
    },
    {
      "cell_type": "code",
      "execution_count": 1,
      "metadata": {
        "id": "bgVeNxnA9XnH"
      },
      "outputs": [],
      "source": [
        "import tensorflow as tf\n",
        "import numpy as np\n",
        "import matplotlib.pyplot as plt"
      ]
    },
    {
      "cell_type": "code",
      "source": [
        "fashion_mnist = tf.keras.datasets.fashion_mnist\n",
        "(train_images, train_labels), (test_images, test_labels) = fashion_mnist.load_data()"
      ],
      "metadata": {
        "colab": {
          "base_uri": "https://localhost:8080/"
        },
        "id": "h-6CYULu-AhZ",
        "outputId": "6f74b277-cac3-43b5-df76-b548aa2121a8"
      },
      "execution_count": 2,
      "outputs": [
        {
          "output_type": "stream",
          "name": "stdout",
          "text": [
            "Downloading data from https://storage.googleapis.com/tensorflow/tf-keras-datasets/train-labels-idx1-ubyte.gz\n",
            "29515/29515 [==============================] - 0s 0us/step\n",
            "Downloading data from https://storage.googleapis.com/tensorflow/tf-keras-datasets/train-images-idx3-ubyte.gz\n",
            "26421880/26421880 [==============================] - 0s 0us/step\n",
            "Downloading data from https://storage.googleapis.com/tensorflow/tf-keras-datasets/t10k-labels-idx1-ubyte.gz\n",
            "5148/5148 [==============================] - 0s 0us/step\n",
            "Downloading data from https://storage.googleapis.com/tensorflow/tf-keras-datasets/t10k-images-idx3-ubyte.gz\n",
            "4422102/4422102 [==============================] - 0s 0us/step\n"
          ]
        }
      ]
    },
    {
      "cell_type": "code",
      "source": [
        "# rescale\n",
        "train_images = train_images / 255.0\n",
        "\n",
        "test_images = test_images / 255.0\n",
        "\n",
        "# train validation split\n",
        "validation_images = train_images[-5000:]\n",
        "validation_labels = train_labels[-5000:]\n",
        "\n",
        "train_images = train_images[:-5000]\n",
        "train_labels = train_labels[:-5000]"
      ],
      "metadata": {
        "id": "ZVPVKCvN-Cr5"
      },
      "execution_count": 3,
      "outputs": []
    },
    {
      "cell_type": "markdown",
      "source": [
        "split the model into encoder and decoder"
      ],
      "metadata": {
        "id": "GuPRbSjkAtgg"
      }
    },
    {
      "cell_type": "code",
      "source": [
        "encoder = tf.keras.Sequential([ \n",
        "    tf.keras.layers.Flatten(input_shape=(28,28)), \n",
        "    tf.keras.layers.Dense(128, activation='relu'),  \n",
        "    tf.keras.layers.Dense(64, activation='relu') \n",
        "]) \n",
        "\n",
        "decoder = tf.keras.Sequential([ \n",
        "    tf.keras.layers.Dense(128, activation='relu'),  \n",
        "    tf.keras.layers.Dense(784, activation='sigmoid'),\n",
        "    tf.keras.layers.Reshape((28, 28))\n",
        "]) \n",
        "autoencoder = tf.keras.Sequential([ \n",
        "    encoder,\n",
        "    decoder \n",
        "]) "
      ],
      "metadata": {
        "id": "pIKazF1V-RGB"
      },
      "execution_count": 6,
      "outputs": []
    },
    {
      "cell_type": "code",
      "source": [
        "def rounded_accuracy(y_true, y_pred): \n",
        "  return tf.keras.metrics.binary_accuracy(tf.round(y_true), tf.round(y_pred))"
      ],
      "metadata": {
        "id": "26PulFLm_Blx"
      },
      "execution_count": 7,
      "outputs": []
    },
    {
      "cell_type": "code",
      "source": [
        "autoencoder.compile(\n",
        "    optimizer=tf.keras.optimizers.SGD(learning_rate=1.5), \n",
        "    loss=tf.keras.losses.BinaryCrossentropy(from_logits=True),\n",
        "    metrics=[rounded_accuracy]\n",
        ") "
      ],
      "metadata": {
        "id": "nsTUnhLB_CEZ"
      },
      "execution_count": 8,
      "outputs": []
    },
    {
      "cell_type": "code",
      "source": [
        "early_stopping = tf.keras.callbacks.EarlyStopping(patience=3,restore_best_weights=True) "
      ],
      "metadata": {
        "id": "C6FYuIvt_DTi"
      },
      "execution_count": 9,
      "outputs": []
    },
    {
      "cell_type": "code",
      "source": [
        "history = autoencoder.fit(train_images, train_images, batch_size=32, \n",
        "                          epochs=100, callbacks=early_stopping, verbose = 0,\n",
        "                          validation_data=(validation_images, validation_images)) "
      ],
      "metadata": {
        "id": "_XA0w_nD_EhZ"
      },
      "execution_count": 10,
      "outputs": []
    },
    {
      "cell_type": "code",
      "source": [
        "# training and validation loss\n",
        "validation_losses = history.history['val_loss']\n",
        "losses = history.history['loss']"
      ],
      "metadata": {
        "id": "Rm4h_buR_bwx"
      },
      "execution_count": 11,
      "outputs": []
    },
    {
      "cell_type": "code",
      "source": [
        "plt.plot(validation_losses, label='validation')\n",
        "plt.plot(losses, label='train')\n",
        "plt.ylabel('loss')\n",
        "plt.xlabel('epoch')\n",
        "plt.legend()\n",
        "plt.show()"
      ],
      "metadata": {
        "colab": {
          "base_uri": "https://localhost:8080/",
          "height": 279
        },
        "id": "zDi5cl9x_c5x",
        "outputId": "a175680e-56cb-40f7-8025-cec898d517df"
      },
      "execution_count": 12,
      "outputs": [
        {
          "output_type": "display_data",
          "data": {
            "text/plain": [
              "<Figure size 432x288 with 1 Axes>"
            ],
            "image/png": "[encoded data removed]"
          },
          "metadata": {
            "needs_background": "light"
          }
        }
      ]
    },
    {
      "cell_type": "code",
      "source": [
        "# use autoencoder to predict first 5 images in the dataset\n",
        "test5 = test_images[0:5]\n",
        "predict5 = autoencoder.predict(test5)"
      ],
      "metadata": {
        "colab": {
          "base_uri": "https://localhost:8080/"
        },
        "id": "6a1pRZi__eWy",
        "outputId": "7a4367b2-b28c-44ac-bdf4-d69797f842bf"
      },
      "execution_count": 13,
      "outputs": [
        {
          "output_type": "stream",
          "name": "stdout",
          "text": [
            "1/1 [==============================] - 0s 207ms/step\n"
          ]
        }
      ]
    },
    {
      "cell_type": "code",
      "source": [
        "# plot the original image and predicted image\n",
        "plt.figure(figsize=(10,10))\n",
        "i = 0\n",
        "while i <= 4:\n",
        "    plt.subplot(5, 2, 2*i+1)\n",
        "    plt.xticks([])\n",
        "    plt.yticks([])\n",
        "    plt.grid(False)\n",
        "    plt.imshow(test5[i])\n",
        "    plt.xlabel(\"test image \"+str(i))\n",
        "    \n",
        "    plt.subplot(5, 2, 2*i+2)\n",
        "    plt.xticks([])\n",
        "    plt.yticks([])\n",
        "    plt.grid(False)\n",
        "    plt.imshow(predict5[i])\n",
        "    plt.xlabel(\"predict image \"+str(i))\n",
        "    i += 1\n",
        "\n",
        "plt.tight_layout()"
      ],
      "metadata": {
        "colab": {
          "base_uri": "https://localhost:8080/",
          "height": 729
        },
        "id": "ufjGAmGK_f0x",
        "outputId": "b4dcee57-43fc-4777-e55f-5f85a6cdab5f"
      },
      "execution_count": 14,
      "outputs": [
        {
          "output_type": "display_data",
          "data": {
            "text/plain": [
              "<Figure size 720x720 with 10 Axes>"
            ],
            "image/png": "[encoded data removed]"
          },
          "metadata": {}
        }
      ]
    },
    {
      "cell_type": "code",
      "source": [
        "# fix the encoder part and try a new second half model\n",
        "encoder.trainable=False\n",
        "model = tf.keras.Sequential([\n",
        "    encoder,\n",
        "    tf.keras.layers.Dense(30, activation='relu'),\n",
        "    tf.keras.layers.Dense(10, activation='softmax'),\n",
        "])"
      ],
      "metadata": {
        "id": "RPmqb0zn_hkT"
      },
      "execution_count": 15,
      "outputs": []
    },
    {
      "cell_type": "code",
      "source": [
        "# encoder is froze in previous part\n",
        "train_x = train_images[:3000]\n",
        "train_y = train_labels[:3000]\n",
        "train_y = tf.one_hot(train_y, depth=10, dtype=tf.float64) "
      ],
      "metadata": {
        "id": "rRknWYx-_i3I"
      },
      "execution_count": 16,
      "outputs": []
    },
    {
      "cell_type": "code",
      "source": [
        "model.compile(\n",
        "    optimizer=tf.keras.optimizers.Adam(learning_rate=0.001),\n",
        "    loss=tf.keras.losses.CategoricalCrossentropy(),\n",
        "    metrics=tf.keras.metrics.CategoricalAccuracy()\n",
        ")"
      ],
      "metadata": {
        "id": "-3lFt--1_kHJ"
      },
      "execution_count": 17,
      "outputs": []
    },
    {
      "cell_type": "code",
      "source": [
        "model.fit(train_x, train_y, batch_size=32,\n",
        "          epochs=100, callbacks=early_stopping, verbose = 0,\n",
        "          validation_split = 0.2) "
      ],
      "metadata": {
        "colab": {
          "base_uri": "https://localhost:8080/"
        },
        "id": "YdfVMauv_lRR",
        "outputId": "6cc03789-2c88-40bc-c3d4-88b7e16196db"
      },
      "execution_count": 18,
      "outputs": [
        {
          "output_type": "execute_result",
          "data": {
            "text/plain": [
              "<keras.callbacks.History at 0x7fde5e8d7220>"
            ]
          },
          "metadata": {},
          "execution_count": 18
        }
      ]
    },
    {
      "cell_type": "code",
      "source": [
        "test_labels  = tf.one_hot(test_labels, depth=10, dtype=tf.float64) "
      ],
      "metadata": {
        "id": "pTN1rk5H_m2p"
      },
      "execution_count": 19,
      "outputs": []
    },
    {
      "cell_type": "code",
      "source": [
        "model.evaluate(test_images, test_labels) "
      ],
      "metadata": {
        "colab": {
          "base_uri": "https://localhost:8080/"
        },
        "id": "16lUc536_n3g",
        "outputId": "97913fbf-6121-463b-d713-f0f9bb274f2c"
      },
      "execution_count": 20,
      "outputs": [
        {
          "output_type": "stream",
          "name": "stdout",
          "text": [
            "313/313 [==============================] - 1s 3ms/step - loss: 0.9926 - categorical_accuracy: 0.6361\n"
          ]
        },
        {
          "output_type": "execute_result",
          "data": {
            "text/plain": [
              "[0.9925983548164368, 0.6360999941825867]"
            ]
          },
          "metadata": {},
          "execution_count": 20
        }
      ]
    }
  ]
}