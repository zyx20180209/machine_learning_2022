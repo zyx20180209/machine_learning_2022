{
  "nbformat": 4,
  "nbformat_minor": 0,
  "metadata": {
    "colab": {
      "provenance": [],
      "authorship_tag": "ABX9TyOKbZ0R2HK74mZN5kVJKStd",
      "include_colab_link": true
    },
    "kernelspec": {
      "name": "python3",
      "display_name": "Python 3"
    },
    "language_info": {
      "name": "python"
    },
    "widgets": {
      "application/vnd.jupyter.widget-state+json": {
        "368c47c5f09f489981fe242c459fa127": {
          "model_module": "@jupyter-widgets/controls",
          "model_name": "HBoxModel",
          "model_module_version": "1.5.0",
          "state": {
            "_dom_classes": [],
            "_model_module": "@jupyter-widgets/controls",
            "_model_module_version": "1.5.0",
            "_model_name": "HBoxModel",
            "_view_count": null,
            "_view_module": "@jupyter-widgets/controls",
            "_view_module_version": "1.5.0",
            "_view_name": "HBoxView",
            "box_style": "",
            "children": [
              "IPY_MODEL_5617ab62c11349d18850bc8b7447c5a0",
              "IPY_MODEL_1e7f1001f1e940f4b49e167c10caa258",
              "IPY_MODEL_4cb32d89e692467ba3f1c45854f1afa6"
            ],
            "layout": "IPY_MODEL_cc8e53592a204f6d8f2ac41b75b8ac82"
          }
        },
        "5617ab62c11349d18850bc8b7447c5a0": {
          "model_module": "@jupyter-widgets/controls",
          "model_name": "HTMLModel",
          "model_module_version": "1.5.0",
          "state": {
            "_dom_classes": [],
            "_model_module": "@jupyter-widgets/controls",
            "_model_module_version": "1.5.0",
            "_model_name": "HTMLModel",
            "_view_count": null,
            "_view_module": "@jupyter-widgets/controls",
            "_view_module_version": "1.5.0",
            "_view_name": "HTMLView",
            "description": "",
            "description_tooltip": null,
            "layout": "IPY_MODEL_faabcd69b84a4d6cb25b1f757e33c5f6",
            "placeholder": "​",
            "style": "IPY_MODEL_5f62274f2f494b319d6de3b03f5f8425",
            "value": "Dl Completed...: 100%"
          }
        },
        "1e7f1001f1e940f4b49e167c10caa258": {
          "model_module": "@jupyter-widgets/controls",
          "model_name": "FloatProgressModel",
          "model_module_version": "1.5.0",
          "state": {
            "_dom_classes": [],
            "_model_module": "@jupyter-widgets/controls",
            "_model_module_version": "1.5.0",
            "_model_name": "FloatProgressModel",
            "_view_count": null,
            "_view_module": "@jupyter-widgets/controls",
            "_view_module_version": "1.5.0",
            "_view_name": "ProgressView",
            "bar_style": "success",
            "description": "",
            "description_tooltip": null,
            "layout": "IPY_MODEL_4d30da6ca61146f4921a02724866d4bc",
            "max": 5,
            "min": 0,
            "orientation": "horizontal",
            "style": "IPY_MODEL_8dee739840dc4145818614be5f023412",
            "value": 5
          }
        },
        "4cb32d89e692467ba3f1c45854f1afa6": {
          "model_module": "@jupyter-widgets/controls",
          "model_name": "HTMLModel",
          "model_module_version": "1.5.0",
          "state": {
            "_dom_classes": [],
            "_model_module": "@jupyter-widgets/controls",
            "_model_module_version": "1.5.0",
            "_model_name": "HTMLModel",
            "_view_count": null,
            "_view_module": "@jupyter-widgets/controls",
            "_view_module_version": "1.5.0",
            "_view_name": "HTMLView",
            "description": "",
            "description_tooltip": null,
            "layout": "IPY_MODEL_90777890fdb44267bafb1fea4a583786",
            "placeholder": "​",
            "style": "IPY_MODEL_95486c0a23814260b4368bb659d32e8d",
            "value": " 5/5 [00:08&lt;00:00,  1.98s/ file]"
          }
        },
        "cc8e53592a204f6d8f2ac41b75b8ac82": {
          "model_module": "@jupyter-widgets/base",
          "model_name": "LayoutModel",
          "model_module_version": "1.2.0",
          "state": {
            "_model_module": "@jupyter-widgets/base",
            "_model_module_version": "1.2.0",
            "_model_name": "LayoutModel",
            "_view_count": null,
            "_view_module": "@jupyter-widgets/base",
            "_view_module_version": "1.2.0",
            "_view_name": "LayoutView",
            "align_content": null,
            "align_items": null,
            "align_self": null,
            "border": null,
            "bottom": null,
            "display": null,
            "flex": null,
            "flex_flow": null,
            "grid_area": null,
            "grid_auto_columns": null,
            "grid_auto_flow": null,
            "grid_auto_rows": null,
            "grid_column": null,
            "grid_gap": null,
            "grid_row": null,
            "grid_template_areas": null,
            "grid_template_columns": null,
            "grid_template_rows": null,
            "height": null,
            "justify_content": null,
            "justify_items": null,
            "left": null,
            "margin": null,
            "max_height": null,
            "max_width": null,
            "min_height": null,
            "min_width": null,
            "object_fit": null,
            "object_position": null,
            "order": null,
            "overflow": null,
            "overflow_x": null,
            "overflow_y": null,
            "padding": null,
            "right": null,
            "top": null,
            "visibility": null,
            "width": null
          }
        },
        "faabcd69b84a4d6cb25b1f757e33c5f6": {
          "model_module": "@jupyter-widgets/base",
          "model_name": "LayoutModel",
          "model_module_version": "1.2.0",
          "state": {
            "_model_module": "@jupyter-widgets/base",
            "_model_module_version": "1.2.0",
            "_model_name": "LayoutModel",
            "_view_count": null,
            "_view_module": "@jupyter-widgets/base",
            "_view_module_version": "1.2.0",
            "_view_name": "LayoutView",
            "align_content": null,
            "align_items": null,
            "align_self": null,
            "border": null,
            "bottom": null,
            "display": null,
            "flex": null,
            "flex_flow": null,
            "grid_area": null,
            "grid_auto_columns": null,
            "grid_auto_flow": null,
            "grid_auto_rows": null,
            "grid_column": null,
            "grid_gap": null,
            "grid_row": null,
            "grid_template_areas": null,
            "grid_template_columns": null,
            "grid_template_rows": null,
            "height": null,
            "justify_content": null,
            "justify_items": null,
            "left": null,
            "margin": null,
            "max_height": null,
            "max_width": null,
            "min_height": null,
            "min_width": null,
            "object_fit": null,
            "object_position": null,
            "order": null,
            "overflow": null,
            "overflow_x": null,
            "overflow_y": null,
            "padding": null,
            "right": null,
            "top": null,
            "visibility": null,
            "width": null
          }
        },
        "5f62274f2f494b319d6de3b03f5f8425": {
          "model_module": "@jupyter-widgets/controls",
          "model_name": "DescriptionStyleModel",
          "model_module_version": "1.5.0",
          "state": {
            "_model_module": "@jupyter-widgets/controls",
            "_model_module_version": "1.5.0",
            "_model_name": "DescriptionStyleModel",
            "_view_count": null,
            "_view_module": "@jupyter-widgets/base",
            "_view_module_version": "1.2.0",
            "_view_name": "StyleView",
            "description_width": ""
          }
        },
        "4d30da6ca61146f4921a02724866d4bc": {
          "model_module": "@jupyter-widgets/base",
          "model_name": "LayoutModel",
          "model_module_version": "1.2.0",
          "state": {
            "_model_module": "@jupyter-widgets/base",
            "_model_module_version": "1.2.0",
            "_model_name": "LayoutModel",
            "_view_count": null,
            "_view_module": "@jupyter-widgets/base",
            "_view_module_version": "1.2.0",
            "_view_name": "LayoutView",
            "align_content": null,
            "align_items": null,
            "align_self": null,
            "border": null,
            "bottom": null,
            "display": null,
            "flex": null,
            "flex_flow": null,
            "grid_area": null,
            "grid_auto_columns": null,
            "grid_auto_flow": null,
            "grid_auto_rows": null,
            "grid_column": null,
            "grid_gap": null,
            "grid_row": null,
            "grid_template_areas": null,
            "grid_template_columns": null,
            "grid_template_rows": null,
            "height": null,
            "justify_content": null,
            "justify_items": null,
            "left": null,
            "margin": null,
            "max_height": null,
            "max_width": null,
            "min_height": null,
            "min_width": null,
            "object_fit": null,
            "object_position": null,
            "order": null,
            "overflow": null,
            "overflow_x": null,
            "overflow_y": null,
            "padding": null,
            "right": null,
            "top": null,
            "visibility": null,
            "width": null
          }
        },
        "8dee739840dc4145818614be5f023412": {
          "model_module": "@jupyter-widgets/controls",
          "model_name": "ProgressStyleModel",
          "model_module_version": "1.5.0",
          "state": {
            "_model_module": "@jupyter-widgets/controls",
            "_model_module_version": "1.5.0",
            "_model_name": "ProgressStyleModel",
            "_view_count": null,
            "_view_module": "@jupyter-widgets/base",
            "_view_module_version": "1.2.0",
            "_view_name": "StyleView",
            "bar_color": null,
            "description_width": ""
          }
        },
        "90777890fdb44267bafb1fea4a583786": {
          "model_module": "@jupyter-widgets/base",
          "model_name": "LayoutModel",
          "model_module_version": "1.2.0",
          "state": {
            "_model_module": "@jupyter-widgets/base",
            "_model_module_version": "1.2.0",
            "_model_name": "LayoutModel",
            "_view_count": null,
            "_view_module": "@jupyter-widgets/base",
            "_view_module_version": "1.2.0",
            "_view_name": "LayoutView",
            "align_content": null,
            "align_items": null,
            "align_self": null,
            "border": null,
            "bottom": null,
            "display": null,
            "flex": null,
            "flex_flow": null,
            "grid_area": null,
            "grid_auto_columns": null,
            "grid_auto_flow": null,
            "grid_auto_rows": null,
            "grid_column": null,
            "grid_gap": null,
            "grid_row": null,
            "grid_template_areas": null,
            "grid_template_columns": null,
            "grid_template_rows": null,
            "height": null,
            "justify_content": null,
            "justify_items": null,
            "left": null,
            "margin": null,
            "max_height": null,
            "max_width": null,
            "min_height": null,
            "min_width": null,
            "object_fit": null,
            "object_position": null,
            "order": null,
            "overflow": null,
            "overflow_x": null,
            "overflow_y": null,
            "padding": null,
            "right": null,
            "top": null,
            "visibility": null,
            "width": null
          }
        },
        "95486c0a23814260b4368bb659d32e8d": {
          "model_module": "@jupyter-widgets/controls",
          "model_name": "DescriptionStyleModel",
          "model_module_version": "1.5.0",
          "state": {
            "_model_module": "@jupyter-widgets/controls",
            "_model_module_version": "1.5.0",
            "_model_name": "DescriptionStyleModel",
            "_view_count": null,
            "_view_module": "@jupyter-widgets/base",
            "_view_module_version": "1.2.0",
            "_view_name": "StyleView",
            "description_width": ""
          }
        }
      }
    }
  },
  "cells": [
    {
      "cell_type": "markdown",
      "metadata": {
        "id": "view-in-github",
        "colab_type": "text"
      },
      "source": [
        "<a href=\"https://colab.research.google.com/github/zyx20180209/test2023/blob/main/tensorflow_flowers.ipynb\" target=\"_parent\"><img src=\"https://colab.research.google.com/assets/colab-badge.svg\" alt=\"Open In Colab\"/></a>"
      ]
    },
    {
      "cell_type": "code",
      "execution_count": 1,
      "metadata": {
        "id": "AvOLzIBS8uCZ"
      },
      "outputs": [],
      "source": [
        "import numpy as np\n",
        "import tensorflow as tf\n",
        "import matplotlib.pyplot as plt\n",
        "import numpy as np\n",
        "import tensorflow_datasets as tfds\n",
        "import tensorflow_hub as hub"
      ]
    },
    {
      "cell_type": "code",
      "source": [
        "train_data, validation_data = tfds.load('tf_flowers',\n",
        "                                        split = ['train[:80%]',\n",
        "                                                 'train[80%:]'],\n",
        "                                        as_supervised=True)"
      ],
      "metadata": {
        "colab": {
          "base_uri": "https://localhost:8080/",
          "height": 84,
          "referenced_widgets": [
            "368c47c5f09f489981fe242c459fa127",
            "5617ab62c11349d18850bc8b7447c5a0",
            "1e7f1001f1e940f4b49e167c10caa258",
            "4cb32d89e692467ba3f1c45854f1afa6",
            "cc8e53592a204f6d8f2ac41b75b8ac82",
            "faabcd69b84a4d6cb25b1f757e33c5f6",
            "5f62274f2f494b319d6de3b03f5f8425",
            "4d30da6ca61146f4921a02724866d4bc",
            "8dee739840dc4145818614be5f023412",
            "90777890fdb44267bafb1fea4a583786",
            "95486c0a23814260b4368bb659d32e8d"
          ]
        },
        "id": "VmaUoCey8ye9",
        "outputId": "76820bac-714e-4f49-d1bc-322db9585848"
      },
      "execution_count": 2,
      "outputs": [
        {
          "output_type": "stream",
          "name": "stdout",
          "text": [
            "Downloading and preparing dataset 218.21 MiB (download: 218.21 MiB, generated: 221.83 MiB, total: 440.05 MiB) to /root/tensorflow_datasets/tf_flowers/3.0.1...\n"
          ]
        },
        {
          "output_type": "display_data",
          "data": {
            "text/plain": [
              "Dl Completed...:   0%|          | 0/5 [00:00<?, ? file/s]"
            ],
            "application/vnd.jupyter.widget-view+json": {
              "version_major": 2,
              "version_minor": 0,
              "model_id": "368c47c5f09f489981fe242c459fa127"
            }
          },
          "metadata": {}
        },
        {
          "output_type": "stream",
          "name": "stdout",
          "text": [
            "Dataset tf_flowers downloaded and prepared to /root/tensorflow_datasets/tf_flowers/3.0.1. Subsequent calls will reuse this data.\n"
          ]
        }
      ]
    },
    {
      "cell_type": "code",
      "source": [
        "# define a function that preprocess the data\n",
        "# have 64x64 pixel values and rescale all pixel values to have values between 0 and 1\n",
        "def preprocess(image, label): \n",
        "  image2 = tf.image.resize(image, size=(64,64))/255.0 \n",
        "  label2 = tf.one_hot(label, depth=5) \n",
        "  return image2, label2"
      ],
      "metadata": {
        "id": "Z6Q-TXez81Cz"
      },
      "execution_count": 3,
      "outputs": []
    },
    {
      "cell_type": "code",
      "source": [
        "train = train_data.map(preprocess)\n",
        "validation = validation_data.map(preprocess)"
      ],
      "metadata": {
        "id": "x-5TRwno9ESF"
      },
      "execution_count": 4,
      "outputs": []
    },
    {
      "cell_type": "code",
      "source": [
        "# generate mini-batches of 32 samples randomly selected from a buffer of 1000 items\n",
        "train= train.shuffle(buffer_size=1000, seed=99, reshuffle_each_iteration=\n",
        "True)\n",
        "train_batched = train.batch(batch_size= 32)"
      ],
      "metadata": {
        "id": "3mBTRi5z9TaT"
      },
      "execution_count": 5,
      "outputs": []
    },
    {
      "cell_type": "code",
      "source": [
        "model_c = tf.keras.Sequential([ \n",
        "    tf.keras.layers.Conv2D(filters=32, \n",
        "                           kernel_size=3, \n",
        "                           strides=1, \n",
        "                           padding='same',\n",
        "                           use_bias=False, \n",
        "                           activation='relu', \n",
        "                           input_shape=(64,64,3)), \n",
        "    tf.keras.layers.MaxPooling2D((2, 2),\n",
        "                                 strides=2,\n",
        "                                 padding=\"valid\"),\n",
        "    tf.keras.layers.Conv2D(filters=64, \n",
        "                           kernel_size=3, \n",
        "                           strides=1, \n",
        "                           padding='same',\n",
        "                           use_bias=False, \n",
        "                           activation='relu'), \n",
        "    tf.keras.layers.MaxPooling2D((2, 2),\n",
        "                                 strides=2,\n",
        "                                 padding=\"valid\"),\n",
        "    tf.keras.layers.Flatten(),\n",
        "    tf.keras.layers.Dense(64, activation='relu'),\n",
        "    tf.keras.layers.Dense(5, activation='softmax')\n",
        "]) "
      ],
      "metadata": {
        "id": "QB5hdZ-Y9YZD"
      },
      "execution_count": 6,
      "outputs": []
    },
    {
      "cell_type": "code",
      "source": [
        "model_c.compile(optimizer=tf.keras.optimizers.SGD(learning_rate=0.001),\n",
        "                loss=tf.keras.losses.CategoricalCrossentropy(),\n",
        "                metrics=['accuracy'])"
      ],
      "metadata": {
        "id": "86_My0L89bzC"
      },
      "execution_count": 7,
      "outputs": []
    },
    {
      "cell_type": "code",
      "source": [
        "history_c = model_c.fit(train_batched, epochs=20)"
      ],
      "metadata": {
        "colab": {
          "base_uri": "https://localhost:8080/"
        },
        "id": "T7o0JoFc9hdq",
        "outputId": "f60e100a-6066-44bf-dc84-82b1d59e848a"
      },
      "execution_count": 8,
      "outputs": [
        {
          "output_type": "stream",
          "name": "stdout",
          "text": [
            "Epoch 1/20\n",
            "92/92 [==============================] - 31s 297ms/step - loss: 1.5919 - accuracy: 0.2783\n",
            "Epoch 2/20\n",
            "92/92 [==============================] - 28s 305ms/step - loss: 1.5714 - accuracy: 0.3311\n",
            "Epoch 3/20\n",
            "92/92 [==============================] - 20s 215ms/step - loss: 1.5510 - accuracy: 0.3559\n",
            "Epoch 4/20\n",
            "92/92 [==============================] - 24s 263ms/step - loss: 1.5275 - accuracy: 0.3723\n",
            "Epoch 5/20\n",
            "92/92 [==============================] - 20s 214ms/step - loss: 1.5013 - accuracy: 0.3815\n",
            "Epoch 6/20\n",
            "92/92 [==============================] - 22s 230ms/step - loss: 1.4742 - accuracy: 0.3934\n",
            "Epoch 7/20\n",
            "92/92 [==============================] - 21s 223ms/step - loss: 1.4456 - accuracy: 0.4005\n",
            "Epoch 8/20\n",
            "92/92 [==============================] - 19s 209ms/step - loss: 1.4178 - accuracy: 0.4074\n",
            "Epoch 9/20\n",
            "92/92 [==============================] - 21s 224ms/step - loss: 1.3892 - accuracy: 0.4186\n",
            "Epoch 10/20\n",
            "92/92 [==============================] - 20s 214ms/step - loss: 1.3624 - accuracy: 0.4264\n",
            "Epoch 11/20\n",
            "92/92 [==============================] - 21s 224ms/step - loss: 1.3372 - accuracy: 0.4458\n",
            "Epoch 12/20\n",
            "92/92 [==============================] - 19s 208ms/step - loss: 1.3115 - accuracy: 0.4527\n",
            "Epoch 13/20\n",
            "92/92 [==============================] - 21s 224ms/step - loss: 1.2892 - accuracy: 0.4581\n",
            "Epoch 14/20\n",
            "92/92 [==============================] - 21s 224ms/step - loss: 1.2666 - accuracy: 0.4762\n",
            "Epoch 15/20\n",
            "92/92 [==============================] - 20s 219ms/step - loss: 1.2462 - accuracy: 0.4772\n",
            "Epoch 16/20\n",
            "92/92 [==============================] - 20s 209ms/step - loss: 1.2300 - accuracy: 0.4830\n",
            "Epoch 17/20\n",
            "92/92 [==============================] - 21s 223ms/step - loss: 1.2142 - accuracy: 0.4986\n",
            "Epoch 18/20\n",
            "92/92 [==============================] - 19s 210ms/step - loss: 1.2012 - accuracy: 0.4952\n",
            "Epoch 19/20\n",
            "92/92 [==============================] - 21s 225ms/step - loss: 1.1881 - accuracy: 0.4956\n",
            "Epoch 20/20\n",
            "92/92 [==============================] - 20s 213ms/step - loss: 1.1764 - accuracy: 0.5075\n"
          ]
        }
      ]
    },
    {
      "cell_type": "code",
      "source": [
        "model_d = tf.keras.Sequential([ \n",
        "    tf.keras.layers.Conv2D(filters=32, \n",
        "                           kernel_size=3, \n",
        "                           strides=1, \n",
        "                           padding='same',\n",
        "                           use_bias=False, \n",
        "                           activation=None, \n",
        "                           input_shape=(64,64,3)), \n",
        "    tf.keras.layers.BatchNormalization(), \n",
        "    tf.keras.layers.Activation('relu'),\n",
        "    tf.keras.layers.MaxPooling2D((2, 2),\n",
        "                                 strides=2,\n",
        "                                 padding=\"valid\"),\n",
        "                               \n",
        "    tf.keras.layers.Conv2D(filters=64, \n",
        "                           kernel_size=3, \n",
        "                           strides=1, \n",
        "                           padding='same',\n",
        "                           use_bias=False, \n",
        "                           activation=None), \n",
        "    tf.keras.layers.BatchNormalization(), \n",
        "    tf.keras.layers.Activation('relu'),\n",
        "    tf.keras.layers.MaxPooling2D((2, 2),\n",
        "                                 strides=2,\n",
        "                                 padding=\"valid\"),\n",
        "                               \n",
        "    tf.keras.layers.Flatten(),\n",
        "    tf.keras.layers.Dense(64, activation=None),\n",
        "    tf.keras.layers.BatchNormalization(), \n",
        "    tf.keras.layers.Activation('relu'),\n",
        "    \n",
        "    tf.keras.layers.Dense(5, activation='softmax')\n",
        "]) "
      ],
      "metadata": {
        "id": "5xnrBldV9kSb"
      },
      "execution_count": 9,
      "outputs": []
    },
    {
      "cell_type": "code",
      "source": [
        "model_d.compile(optimizer=tf.keras.optimizers.SGD(learning_rate=0.001),\n",
        "                loss=tf.keras.losses.CategoricalCrossentropy(),\n",
        "                metrics=['accuracy'])"
      ],
      "metadata": {
        "id": "B9hWV0FH9mD7"
      },
      "execution_count": 10,
      "outputs": []
    },
    {
      "cell_type": "code",
      "source": [
        "history_d = model_d.fit(train_batched, epochs=20)"
      ],
      "metadata": {
        "colab": {
          "base_uri": "https://localhost:8080/"
        },
        "id": "6mnNLlzI9nSj",
        "outputId": "0f9e089e-a2cb-4a36-b971-90fc08123e84"
      },
      "execution_count": 11,
      "outputs": [
        {
          "output_type": "stream",
          "name": "stdout",
          "text": [
            "Epoch 1/20\n",
            "92/92 [==============================] - 28s 286ms/step - loss: 1.5289 - accuracy: 0.3903\n",
            "Epoch 2/20\n",
            "92/92 [==============================] - 26s 283ms/step - loss: 1.1800 - accuracy: 0.5456\n",
            "Epoch 3/20\n",
            "92/92 [==============================] - 26s 284ms/step - loss: 1.0477 - accuracy: 0.5998\n",
            "Epoch 4/20\n",
            "92/92 [==============================] - 26s 284ms/step - loss: 0.9745 - accuracy: 0.6304\n",
            "Epoch 5/20\n",
            "92/92 [==============================] - 26s 283ms/step - loss: 0.9109 - accuracy: 0.6628\n",
            "Epoch 6/20\n",
            "92/92 [==============================] - 26s 284ms/step - loss: 0.8608 - accuracy: 0.6897\n",
            "Epoch 7/20\n",
            "92/92 [==============================] - 27s 288ms/step - loss: 0.8288 - accuracy: 0.7067\n",
            "Epoch 8/20\n",
            "92/92 [==============================] - 26s 285ms/step - loss: 0.7928 - accuracy: 0.7306\n",
            "Epoch 9/20\n",
            "92/92 [==============================] - 26s 286ms/step - loss: 0.7438 - accuracy: 0.7565\n",
            "Epoch 10/20\n",
            "92/92 [==============================] - 26s 285ms/step - loss: 0.7231 - accuracy: 0.7623\n",
            "Epoch 11/20\n",
            "92/92 [==============================] - 27s 286ms/step - loss: 0.6766 - accuracy: 0.7919\n",
            "Epoch 12/20\n",
            "92/92 [==============================] - 26s 283ms/step - loss: 0.6494 - accuracy: 0.8055\n",
            "Epoch 13/20\n",
            "92/92 [==============================] - 26s 285ms/step - loss: 0.6170 - accuracy: 0.8174\n",
            "Epoch 14/20\n",
            "92/92 [==============================] - 26s 284ms/step - loss: 0.5993 - accuracy: 0.8406\n",
            "Epoch 15/20\n",
            "92/92 [==============================] - 27s 289ms/step - loss: 0.5754 - accuracy: 0.8501\n",
            "Epoch 16/20\n",
            "92/92 [==============================] - 26s 284ms/step - loss: 0.5414 - accuracy: 0.8651\n",
            "Epoch 17/20\n",
            "92/92 [==============================] - 26s 285ms/step - loss: 0.5265 - accuracy: 0.8753\n",
            "Epoch 18/20\n",
            "92/92 [==============================] - 26s 285ms/step - loss: 0.5046 - accuracy: 0.8784\n",
            "Epoch 19/20\n",
            "92/92 [==============================] - 26s 284ms/step - loss: 0.4819 - accuracy: 0.8951\n",
            "Epoch 20/20\n",
            "92/92 [==============================] - 26s 284ms/step - loss: 0.4621 - accuracy: 0.9050\n"
          ]
        }
      ]
    },
    {
      "cell_type": "code",
      "source": [
        "# randomly rotate and flip the image\n",
        "import random\n",
        "def data_aug(image, label): \n",
        "  x = random.randint(0,1)\n",
        "  if x == 0:\n",
        "    image2 = tf.image.flip_up_down(image)\n",
        "  else: \n",
        "    image2 = tf.image.adjust_contrast(image, 1.5)\n",
        "  return image2, label \n",
        "\n",
        "train_aug = train_data.map(data_aug) \n",
        "train_large = train_data.concatenate(train_aug) "
      ],
      "metadata": {
        "id": "ksPqxcxP9sED"
      },
      "execution_count": 12,
      "outputs": []
    },
    {
      "cell_type": "code",
      "source": [
        "train_f = train_large.map(preprocess)\n",
        "train_f= train_f.shuffle(buffer_size=1000, seed=99, reshuffle_each_iteration=\n",
        "True)\n",
        "trainf_batched = train_f.batch(batch_size= 32)"
      ],
      "metadata": {
        "id": "cbGYKgFI96RC"
      },
      "execution_count": 13,
      "outputs": []
    },
    {
      "cell_type": "code",
      "source": [
        "model_g = tf.keras.Sequential([ \n",
        "    tf.keras.layers.Conv2D(filters=32, \n",
        "                           kernel_size=3, \n",
        "                           strides=1, \n",
        "                           padding='same',\n",
        "                           use_bias=False, \n",
        "                           activation=None, \n",
        "                           input_shape=(64,64,3)), \n",
        "    tf.keras.layers.BatchNormalization(), \n",
        "    tf.keras.layers.Activation('relu'),\n",
        "    tf.keras.layers.MaxPooling2D((2, 2),\n",
        "                                 strides=2,\n",
        "                                 padding=\"valid\"),\n",
        "                               \n",
        "    tf.keras.layers.Conv2D(filters=64, \n",
        "                           kernel_size=3, \n",
        "                           strides=1, \n",
        "                           padding='same',\n",
        "                           use_bias=False, \n",
        "                           activation=None), \n",
        "    tf.keras.layers.BatchNormalization(), \n",
        "    tf.keras.layers.Activation('relu'),\n",
        "    tf.keras.layers.MaxPooling2D((2, 2),\n",
        "                                 strides=2,\n",
        "                                 padding=\"valid\"),\n",
        "                               \n",
        "    tf.keras.layers.Flatten(),\n",
        "    tf.keras.layers.Dense(64, activation=None),\n",
        "    tf.keras.layers.BatchNormalization(), \n",
        "    tf.keras.layers.Activation('relu'),\n",
        "    \n",
        "    tf.keras.layers.Dense(5, activation='softmax')\n",
        "]) "
      ],
      "metadata": {
        "id": "hITYFprd972a"
      },
      "execution_count": 14,
      "outputs": []
    },
    {
      "cell_type": "code",
      "source": [
        "model_g.compile(optimizer=tf.keras.optimizers.SGD(learning_rate=0.001),\n",
        "                loss=tf.keras.losses.CategoricalCrossentropy(),\n",
        "                metrics=['accuracy'])"
      ],
      "metadata": {
        "id": "4-puMpeU99WS"
      },
      "execution_count": 15,
      "outputs": []
    },
    {
      "cell_type": "code",
      "source": [
        "history_g = model_g.fit(trainf_batched, epochs=20)"
      ],
      "metadata": {
        "colab": {
          "base_uri": "https://localhost:8080/"
        },
        "id": "ya4ERaff9-O8",
        "outputId": "ef9d081e-050e-4458-d8ac-de5deca490e8"
      },
      "execution_count": 16,
      "outputs": [
        {
          "output_type": "stream",
          "name": "stdout",
          "text": [
            "Epoch 1/20\n",
            "184/184 [==============================] - 55s 292ms/step - loss: 1.3929 - accuracy: 0.4356\n",
            "Epoch 2/20\n",
            "184/184 [==============================] - 54s 293ms/step - loss: 1.1193 - accuracy: 0.5683\n",
            "Epoch 3/20\n",
            "184/184 [==============================] - 54s 292ms/step - loss: 1.0084 - accuracy: 0.6262\n",
            "Epoch 4/20\n",
            "184/184 [==============================] - 54s 293ms/step - loss: 0.9277 - accuracy: 0.6633\n",
            "Epoch 5/20\n",
            "184/184 [==============================] - 54s 291ms/step - loss: 0.8701 - accuracy: 0.6921\n",
            "Epoch 6/20\n",
            "184/184 [==============================] - 54s 294ms/step - loss: 0.8284 - accuracy: 0.7101\n",
            "Epoch 7/20\n",
            "184/184 [==============================] - 54s 292ms/step - loss: 0.7826 - accuracy: 0.7250\n",
            "Epoch 8/20\n",
            "184/184 [==============================] - 53s 289ms/step - loss: 0.7418 - accuracy: 0.7464\n",
            "Epoch 9/20\n",
            "184/184 [==============================] - 53s 287ms/step - loss: 0.7085 - accuracy: 0.7662\n",
            "Epoch 10/20\n",
            "184/184 [==============================] - 53s 286ms/step - loss: 0.6764 - accuracy: 0.7824\n",
            "Epoch 11/20\n",
            "184/184 [==============================] - 53s 287ms/step - loss: 0.6437 - accuracy: 0.8042\n",
            "Epoch 12/20\n",
            "184/184 [==============================] - 53s 288ms/step - loss: 0.6104 - accuracy: 0.8193\n",
            "Epoch 13/20\n",
            "184/184 [==============================] - 54s 290ms/step - loss: 0.5863 - accuracy: 0.8299\n",
            "Epoch 14/20\n",
            "184/184 [==============================] - 53s 287ms/step - loss: 0.5545 - accuracy: 0.8466\n",
            "Epoch 15/20\n",
            "184/184 [==============================] - 53s 289ms/step - loss: 0.5327 - accuracy: 0.8544\n",
            "Epoch 16/20\n",
            "184/184 [==============================] - 53s 288ms/step - loss: 0.5050 - accuracy: 0.8726\n",
            "Epoch 17/20\n",
            "184/184 [==============================] - 53s 288ms/step - loss: 0.4788 - accuracy: 0.8868\n",
            "Epoch 18/20\n",
            "184/184 [==============================] - 53s 287ms/step - loss: 0.4567 - accuracy: 0.8954\n",
            "Epoch 19/20\n",
            "184/184 [==============================] - 53s 289ms/step - loss: 0.4356 - accuracy: 0.9048\n",
            "Epoch 20/20\n",
            "184/184 [==============================] - 54s 291ms/step - loss: 0.4181 - accuracy: 0.9138\n"
          ]
        }
      ]
    },
    {
      "cell_type": "code",
      "source": [
        "# plot losses\n",
        "closses = history_c.history['loss']\n",
        "dlosses = history_d.history['loss']\n",
        "glosses = history_g.history['loss']\n",
        "\n",
        "plt.plot(closses, label='base model')\n",
        "plt.plot(dlosses, label='batch normalization')\n",
        "plt.plot(glosses, label='data augmentation')\n",
        "plt.ylabel('loss')\n",
        "plt.xlabel('epoch')\n",
        "plt.legend()\n",
        "plt.show()"
      ],
      "metadata": {
        "colab": {
          "base_uri": "https://localhost:8080/",
          "height": 279
        },
        "id": "aeMsay-C9_zS",
        "outputId": "52f8b910-14c8-4160-dc27-5fd69fe54c6e"
      },
      "execution_count": 17,
      "outputs": [
        {
          "output_type": "display_data",
          "data": {
            "text/plain": [
              "<Figure size 432x288 with 1 Axes>"
            ],
            "image/png": "[encoded data removed]"
          },
          "metadata": {
            "needs_background": "light"
          }
        }
      ]
    },
    {
      "cell_type": "code",
      "source": [
        "# plot accuracy\n",
        "caccuracy = history_c.history['accuracy']\n",
        "daccuracy = history_d.history['accuracy']\n",
        "gaccuracy = history_g.history['accuracy']\n",
        "\n",
        "plt.plot(caccuracy, label='base model')\n",
        "plt.plot(daccuracy, label='batch normalization')\n",
        "plt.plot(gaccuracy, label='data augmentation')\n",
        "plt.ylabel('accuracy')\n",
        "plt.xlabel('epoch')\n",
        "plt.legend()\n",
        "plt.show()"
      ],
      "metadata": {
        "colab": {
          "base_uri": "https://localhost:8080/",
          "height": 279
        },
        "id": "yGzBDSW2-BCy",
        "outputId": "662a04ec-70c7-4eab-db72-cd8adea495c2"
      },
      "execution_count": 18,
      "outputs": [
        {
          "output_type": "display_data",
          "data": {
            "text/plain": [
              "<Figure size 432x288 with 1 Axes>"
            ],
            "image/png": "[encoded data removed]"
          },
          "metadata": {
            "needs_background": "light"
          }
        }
      ]
    }
  ]
}